{
 "cells": [
  {
   "cell_type": "code",
   "execution_count": null,
   "id": "f4b1a672-5af9-4960-bda8-cbb3c5255c24",
   "metadata": {},
   "outputs": [],
   "source": [
    "import json\n",
    "#both the files were originally in a jsonl form but I decided to convert them back and forth till I saw\n",
    "#one that was the most optimal for splitting when loading all the split files into snowflake\n",
    "\n",
    "input_file = 'appliances_reviews.json'\n",
    "output_file = 'appliances_reviews.jsonl'\n",
    "\n",
    "with open(input_file, 'r', encoding='utf-8') as infile:\n",
    "    data = json.load(infile)  \n",
    "\n",
    "with open(output_file, 'w', encoding='utf-8') as outfile:\n",
    "    for obj in data:\n",
    "        json.dump(obj, outfile)\n",
    "        outfile.write('\\n')"
   ]
  },
  {
   "cell_type": "code",
   "execution_count": null,
   "id": "25189a3f-fb86-45f6-89dd-ec7f68bc3fdd",
   "metadata": {},
   "outputs": [],
   "source": [
    "import json\n",
    "\n",
    "input_file = 'appliances_product.json'\n",
    "output_file = 'appliances_product.jsonl'\n",
    "\n",
    "with open(input_file, 'r', encoding='utf-8') as infile:\n",
    "    data = json.load(infile) \n",
    "\n",
    "with open(output_file, 'w', encoding='utf-8') as outfile:\n",
    "    for obj in data:\n",
    "        json.dump(obj, outfile)\n",
    "        outfile.write('\\n')"
   ]
  },
  {
   "cell_type": "code",
   "execution_count": null,
   "id": "9b70302f-f77b-41a4-9a21-e966abf94a15",
   "metadata": {},
   "outputs": [
    {
     "name": "stdout",
     "output_type": "stream",
     "text": [
      "Total reviews: 2128605,Lines per file: 85144\n",
      "the file has been split into smaller parts\n"
     ]
    }
   ],
   "source": [
    "import json\n",
    "\n",
    "#I had to split the file into 25 different files so that snowflake could load such a huge file into the server\n",
    "\n",
    "input_file = \"appliances_reviews.jsonl\"\n",
    "output_prefix = \"split_file_\"\n",
    "num_files = 25\n",
    "\n",
    "with open(input_file, \"r\", encoding=\"utf-8\") as f:\n",
    "    total_lines = sum(1 for _ in f)\n",
    "\n",
    "lines_per_file = total_lines // num_files\n",
    "\n",
    "print(f\"Total reviews: {total_lines},Lines per file: {lines_per_file}\")\n",
    "\n",
    "with open(input_file, \"r\", encoding=\"utf-8\") as f:\n",
    "    for i in range(num_files):\n",
    "        output_path = f\"{output_prefix}{i+1}.json\"\n",
    "        with open(output_path, \"w\", encoding=\"utf-8\") as outfile:\n",
    "            for j in range(lines_per_file):\n",
    "                line = f.readline()\n",
    "                if not line:\n",
    "                    break\n",
    "                outfile.write(line)\n",
    "                \n",
    "print(\"the file has been split into smaller parts\")"
   ]
  },
  {
   "cell_type": "code",
   "execution_count": null,
   "id": "c8f3ca38-cbbe-4083-9046-f5eaa635c717",
   "metadata": {},
   "outputs": [
    {
     "name": "stdout",
     "output_type": "stream",
     "text": [
      "Total reviews: 94327,Lines per file: 47163\n",
      "the file has been split into 2 parts\n"
     ]
    }
   ],
   "source": [
    "import json\n",
    "\n",
    "input_file = \"appliances_product.jsonl\"\n",
    "output_prefix = \"split_product_file_\"\n",
    "num_files = 2\n",
    "\n",
    "with open(input_file, \"r\", encoding=\"utf-8\") as f:\n",
    "    total_lines = sum(1 for _ in f)\n",
    "\n",
    "lines_per_file = total_lines // num_files\n",
    "\n",
    "print(f\"Total reviews: {total_lines},Lines per file: {lines_per_file}\")\n",
    "\n",
    "with open(input_file, \"r\", encoding=\"utf-8\") as f:\n",
    "    for i in range(num_files):\n",
    "        output_path = f\"{output_prefix}{i+1}.json\"\n",
    "        with open(output_path, \"w\", encoding=\"utf-8\") as outfile:\n",
    "            for j in range(lines_per_file):\n",
    "                line = f.readline()\n",
    "                if not line:\n",
    "                    break\n",
    "                outfile.write(line)\n",
    "                \n",
    "print(\"the file has been split into 2 parts\")"
   ]
  },
  {
   "cell_type": "code",
   "execution_count": null,
   "id": "c8d66907-b668-4b99-b694-43b054a85113",
   "metadata": {},
   "outputs": [],
   "source": []
  }
 ],
 "metadata": {
  "kernelspec": {
   "display_name": "Python [conda env:base] *",
   "language": "python",
   "name": "conda-base-py"
  },
  "language_info": {
   "codemirror_mode": {
    "name": "ipython",
    "version": 3
   },
   "file_extension": ".py",
   "mimetype": "text/x-python",
   "name": "python",
   "nbconvert_exporter": "python",
   "pygments_lexer": "ipython3",
   "version": "3.13.5"
  }
 },
 "nbformat": 4,
 "nbformat_minor": 5
}
